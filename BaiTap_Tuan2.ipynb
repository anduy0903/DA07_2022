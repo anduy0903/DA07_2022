{
 "cells": [
  {
   "cell_type": "code",
   "execution_count": 2,
   "id": "2e815311",
   "metadata": {},
   "outputs": [],
   "source": [
    "def So_sanh_gia(a,b):\n",
    "    if b > a + (a*0.07):\n",
    "        print(\"Gia_hom_nay\",a)\n",
    "        print(\"Gia_hom_sau\",b)\n",
    "        print (\"Ban\")\n",
    "    elif  b == a + (a*0.07):\n",
    "        print(\"Gia_hom_nay\",a)\n",
    "        print(\"Gia_hom_sau\",b)\n",
    "        print (\"Bán\")\n",
    "    elif b < a + (a*0.05):  \n",
    "        print(\"Gia hom nay\",a)\n",
    "        print(\"Gia_hom_sau\",b)\n",
    "        print(\"Mua\")\n",
    "    elif b == a + (a*0.05):\n",
    "        print(\"Gia hom nay\",a)\n",
    "        print(\"Gia_hom_sau\",b)\n",
    "        print(\"Mua\")"
   ]
  },
  {
   "cell_type": "code",
   "execution_count": 3,
   "id": "8947186e",
   "metadata": {},
   "outputs": [
    {
     "name": "stdout",
     "output_type": "stream",
     "text": [
      "Gia hom nay 10.7\n",
      "Gia_hom_sau 10.8\n",
      "Mua\n"
     ]
    }
   ],
   "source": [
    "So_sanh_gia(10.7,10.8)"
   ]
  },
  {
   "cell_type": "code",
   "execution_count": 4,
   "id": "2fb62c2c",
   "metadata": {
    "scrolled": true
   },
   "outputs": [
    {
     "name": "stdout",
     "output_type": "stream",
     "text": [
      "Gia hom nay 10.1\n",
      "Gia_hom_sau 9.5\n",
      "Mua\n",
      "====================\n",
      "Gia_hom_nay 9.5\n",
      "Gia_hom_sau 10.7\n",
      "Ban\n",
      "====================\n",
      "Gia hom nay 10.7\n",
      "Gia_hom_sau 10.8\n",
      "Mua\n",
      "====================\n",
      "Gia hom nay 10.8\n",
      "Gia_hom_sau 10.6\n",
      "Mua\n",
      "====================\n",
      "Gia hom nay 10.6\n",
      "Gia_hom_sau 9.5\n",
      "Mua\n",
      "====================\n"
     ]
    }
   ],
   "source": [
    "gia_theo_ngay= [10.1, 9.5, 10.7, 10.8, 10.6, 9.5]\n",
    "print\n",
    "for i in range(len(gia_theo_ngay)-1):\n",
    "    So_sanh_gia(gia_theo_ngay[i],gia_theo_ngay[i+1])\n",
    "    print(\"====================\")\n",
    "    "
   ]
  },
  {
   "cell_type": "code",
   "execution_count": 5,
   "id": "b679e9b6",
   "metadata": {},
   "outputs": [],
   "source": [
    "def Kiem_tra_SNT(a):\n",
    "    mot_nua = a//2\n",
    "    for i in range(2, mot_nua):\n",
    "        if a//i==0:\n",
    "            print(a, \"không phải là số NT\")\n",
    "            break\n",
    "    else:\n",
    "        print(a,\"là số NT\")"
   ]
  },
  {
   "cell_type": "code",
   "execution_count": 6,
   "id": "69d2cda9",
   "metadata": {},
   "outputs": [
    {
     "name": "stdout",
     "output_type": "stream",
     "text": [
      "132 là số NT\n"
     ]
    }
   ],
   "source": [
    "Kiem_tra_SNT(132)"
   ]
  },
  {
   "cell_type": "code",
   "execution_count": 7,
   "id": "6117b892",
   "metadata": {
    "scrolled": true
   },
   "outputs": [
    {
     "name": "stdout",
     "output_type": "stream",
     "text": [
      "1 là số NT(lớn hơn hoặc bằng 3) \n",
      "3 là số NT(lớn hơn hoặc bằng 3) \n",
      "8 là số NT\n",
      "2 là số NT(lớn hơn hoặc bằng 3) \n",
      "6 là số NT\n",
      "9 là số NT\n",
      "7 là số NT\n"
     ]
    }
   ],
   "source": [
    "danh_sach = [1, 3, 8, 2, 6, 9, 7]\n",
    "for item in danh_sach:\n",
    "    if item <= 3:\n",
    "        print(item,\"là số NT(lớn hơn hoặc bằng 3) \")\n",
    "    else:\n",
    "        Kiem_tra_SNT(item)\n",
    "    "
   ]
  },
  {
   "cell_type": "code",
   "execution_count": 8,
   "id": "83983a74",
   "metadata": {},
   "outputs": [],
   "source": [
    "LCB = 2.4\n",
    "def Tinh_CD(he_so,phu_cap):\n",
    "    luong1 =LCB*he_so\n",
    "    luong2 =phu_cap*0.9\n",
    "    luong= luong1+luong2\n",
    "    tien_BHXH = luong *0.07 \n",
    "    tien_PIT = luong * 0.1\n",
    "    return(tien_BHXH,tien_PIT)\n",
    "    print(\"Tiền BHXH:\",tien_BHXH,\"Tiền thuế TNCN\",tien_PIT)"
   ]
  },
  {
   "cell_type": "code",
   "execution_count": null,
   "id": "de300763",
   "metadata": {},
   "outputs": [],
   "source": [
    "Tinh_CD(10,0)"
   ]
  },
  {
   "cell_type": "code",
   "execution_count": 9,
   "id": "0326f69b",
   "metadata": {},
   "outputs": [
    {
     "name": "stdout",
     "output_type": "stream",
     "text": [
      "Nhân viên 1 Tiền BHXH,Tiền thuế TNCN (1.2810000000000001, 1.83)\n",
      "Nhân viên 2 Tiền BHXH,Tiền thuế TNCN (1.5750000000000002, 2.25)\n",
      "Nhân viên 3 Tiền BHXH,Tiền thuế TNCN (0.924, 1.32)\n",
      "Nhân viên 4 Tiền BHXH,Tiền thuế TNCN (2.0055, 2.865)\n",
      "Nhân viên 5 Tiền BHXH,Tiền thuế TNCN (1.6800000000000002, 2.4000000000000004)\n"
     ]
    }
   ],
   "source": [
    "ds_nv = [(5, 7), (6, 9), (4, 4), (8, 10.5), (10, 0)]\n",
    "for i,nv in enumerate(ds_nv):\n",
    "    he_so,phu_cap = nv\n",
    "    Tien_CD = Tinh_CD(he_so,phu_cap)\n",
    "    print(\"Nhân viên\",i+1,\"Tiền BHXH,Tiền thuế TNCN\",Tien_CD)\n",
    "\n",
    "    "
   ]
  },
  {
   "cell_type": "code",
   "execution_count": null,
   "id": "79f7fd33",
   "metadata": {},
   "outputs": [],
   "source": []
  }
 ],
 "metadata": {
  "kernelspec": {
   "display_name": "Python 3 (ipykernel)",
   "language": "python",
   "name": "python3"
  },
  "language_info": {
   "codemirror_mode": {
    "name": "ipython",
    "version": 3
   },
   "file_extension": ".py",
   "mimetype": "text/x-python",
   "name": "python",
   "nbconvert_exporter": "python",
   "pygments_lexer": "ipython3",
   "version": "3.9.13"
  }
 },
 "nbformat": 4,
 "nbformat_minor": 5
}
