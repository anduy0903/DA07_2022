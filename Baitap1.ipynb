{
 "cells": [
  {
   "cell_type": "code",
   "execution_count": 4,
   "id": "92843944",
   "metadata": {},
   "outputs": [
    {
     "name": "stdout",
     "output_type": "stream",
     "text": [
      "Xin chào Mr. Nguyen\n"
     ]
    }
   ],
   "source": [
    "#1\n",
    "def ChaoKH(danhxung,firstname,name = 0):\n",
    "    print(\"Xin chào\",danhxung,firstname)\n",
    "ChaoKH(\"Mr.\",\"Nguyen\")"
   ]
  },
  {
   "cell_type": "code",
   "execution_count": 9,
   "id": "7a0f0f88",
   "metadata": {},
   "outputs": [
    {
     "name": "stdout",
     "output_type": "stream",
     "text": [
      "Tên in trên vé của bạn là Nguyen Van A\n"
     ]
    }
   ],
   "source": [
    "#2\n",
    "def ChaoKH( firstname,name,danhxung =0 ):\n",
    "    print(\"Tên in trên vé của bạn là\",firstname,name)\n",
    "ChaoKH(\"Nguyen\",\"Van A\")\n"
   ]
  },
  {
   "cell_type": "code",
   "execution_count": 11,
   "id": "6d686771",
   "metadata": {},
   "outputs": [
    {
     "name": "stdout",
     "output_type": "stream",
     "text": [
      "Số ghế của bạn là 100\n",
      "Số ghế của bạn là 101\n"
     ]
    }
   ],
   "source": [
    "#3\n",
    "so_ghe = 99\n",
    "def ChaoKH( firstname,name,danhxung =0 ):\n",
    "    global so_ghe\n",
    "    so_ghe = so_ghe + 1\n",
    "    print(\"Số ghế của bạn là\",so_ghe)\n",
    "ChaoKH (\"Nguyen\",\"Van A\")\n",
    "ChaoKH (\"Tran\",\"Van B\")"
   ]
  },
  {
   "cell_type": "code",
   "execution_count": 15,
   "id": "462d3430",
   "metadata": {},
   "outputs": [
    {
     "name": "stdout",
     "output_type": "stream",
     "text": [
      "Bạn năm nay  20 tuổi\n"
     ]
    }
   ],
   "source": [
    "#4\n",
    "year = 2022\n",
    "def ChaoKH( firstname,name,nam_sinh,danhxung =0 ):\n",
    "    print(\"Bạn năm nay \",year - nam_sinh,\"tuổi\")\n",
    "ChaoKH(\"Nguyen\",\"Van A\",2002)"
   ]
  },
  {
   "cell_type": "code",
   "execution_count": null,
   "id": "ccf627c2",
   "metadata": {},
   "outputs": [],
   "source": []
  }
 ],
 "metadata": {
  "kernelspec": {
   "display_name": "Python 3 (ipykernel)",
   "language": "python",
   "name": "python3"
  },
  "language_info": {
   "codemirror_mode": {
    "name": "ipython",
    "version": 3
   },
   "file_extension": ".py",
   "mimetype": "text/x-python",
   "name": "python",
   "nbconvert_exporter": "python",
   "pygments_lexer": "ipython3",
   "version": "3.9.13"
  }
 },
 "nbformat": 4,
 "nbformat_minor": 5
}
