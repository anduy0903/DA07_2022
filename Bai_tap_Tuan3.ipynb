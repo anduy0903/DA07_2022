{
 "cells": [
  {
   "cell_type": "code",
   "execution_count": 47,
   "id": "b0e3a560",
   "metadata": {},
   "outputs": [
    {
     "data": {
      "text/html": [
       "<style type='text/css'>\n",
       "    .CodeMirror{\n",
       "        font-size: 18px;\n",
       "</style>\n"
      ],
      "text/plain": [
       "<IPython.core.display.HTML object>"
      ]
     },
     "metadata": {},
     "output_type": "display_data"
    }
   ],
   "source": [
    "%%html\n",
    "<style type='text/css'>\n",
    "    .CodeMirror{\n",
    "        font-size: 18px;\n",
    "</style>"
   ]
  },
  {
   "cell_type": "code",
   "execution_count": 48,
   "id": "4f522595",
   "metadata": {},
   "outputs": [
    {
     "data": {
      "text/plain": [
       "'D:\\\\DA07\\\\Bai1.2.2'"
      ]
     },
     "execution_count": 48,
     "metadata": {},
     "output_type": "execute_result"
    }
   ],
   "source": [
    "pwd"
   ]
  },
  {
   "cell_type": "markdown",
   "id": "625a6352",
   "metadata": {},
   "source": [
    "## 1."
   ]
  },
  {
   "cell_type": "code",
   "execution_count": 49,
   "id": "6c5acff4",
   "metadata": {},
   "outputs": [],
   "source": [
    "list1 = [0,1,2,3,4,5,6,7,8,9,10,11,12,13,14,15,16,17,18,19,20]"
   ]
  },
  {
   "cell_type": "code",
   "execution_count": 10,
   "id": "31a28ede",
   "metadata": {},
   "outputs": [
    {
     "name": "stdout",
     "output_type": "stream",
     "text": [
      "[0, 2, 4, 6, 8, 10, 12, 14, 16, 18, 20]\n"
     ]
    }
   ],
   "source": [
    "list_chẵn= list1[::2]\n",
    "print(list_chẵn)"
   ]
  },
  {
   "cell_type": "code",
   "execution_count": 11,
   "id": "1f7235a4",
   "metadata": {},
   "outputs": [
    {
     "name": "stdout",
     "output_type": "stream",
     "text": [
      "[1, 3, 5, 7, 9, 11, 13, 15, 17, 19]\n"
     ]
    }
   ],
   "source": [
    "list_lẻ= list1[1::2]\n",
    "print(list_lẻ)"
   ]
  },
  {
   "cell_type": "markdown",
   "id": "2242153c",
   "metadata": {},
   "source": [
    "## 2."
   ]
  },
  {
   "cell_type": "code",
   "execution_count": 12,
   "id": "6834e6d9",
   "metadata": {},
   "outputs": [],
   "source": [
    "listA = list_chẵn\n",
    "listB = list_lẻ\n",
    "with open(\"BaiTapTuan3_2.txt\", mode = \"a\") as f:\n",
    "    f.write(str(listA)+ '\\n')\n",
    "    f.write(str(listB))\n",
    "f.close()"
   ]
  },
  {
   "cell_type": "markdown",
   "id": "95b83034",
   "metadata": {},
   "source": [
    "## 3.\n"
   ]
  },
  {
   "cell_type": "code",
   "execution_count": 14,
   "id": "9f34d095",
   "metadata": {},
   "outputs": [
    {
     "data": {
      "text/plain": [
       "'D:\\\\DA07\\\\Bai1.2.2'"
      ]
     },
     "execution_count": 14,
     "metadata": {},
     "output_type": "execute_result"
    }
   ],
   "source": [
    "pwd"
   ]
  },
  {
   "cell_type": "code",
   "execution_count": 46,
   "id": "a3d5f042",
   "metadata": {},
   "outputs": [],
   "source": [
    "import csv\n",
    "import numpy as np"
   ]
  },
  {
   "cell_type": "code",
   "execution_count": 15,
   "id": "f143f63d",
   "metadata": {},
   "outputs": [
    {
     "name": "stdout",
     "output_type": "stream",
     "text": [
      "Khách mua ở HN 274 -Tỷ lệ 0.274\n",
      "Khách mua ở HCM 490 -Tỷ lệ 0.49\n",
      "Khách mua ở DN 236 -Tỷ lệ 0.236\n"
     ]
    }
   ],
   "source": [
    "csv_path = \"D:\\\\DA07\\\\Bai1.2.2\\\\data_set\\\\supermarket_sales_vn.csv\"\n",
    "City_list = []\n",
    "with open(csv_path, mode ='r', encoding = \"utf-8\") as f:\n",
    "    csv_reader = csv.reader(f)\n",
    "    next(csv_reader)\n",
    "    for row in csv_reader:\n",
    "        City_list.append(row[1])\n",
    "n = len(City_list)\n",
    "Count_HN = 0 \n",
    "Count_HCM= 0\n",
    "Count_DN = 0\n",
    "for city in City_list:\n",
    "    if city =='Hà Nội': Count_HN += 1\n",
    "    if city =='TP HCM': Count_HCM += 1\n",
    "    if city =='Đà Nẵng':Count_DN += 1\n",
    "print(\"Khách mua ở HN\",Count_HN,\"-Tỷ lệ\",Count_HN/n)\n",
    "print(\"Khách mua ở HCM\",Count_HCM,\"-Tỷ lệ\",Count_HCM/n)\n",
    "print(\"Khách mua ở DN\",Count_DN,\"-Tỷ lệ\",Count_DN/n)\n"
   ]
  },
  {
   "cell_type": "code",
   "execution_count": 57,
   "id": "7021e0e5",
   "metadata": {},
   "outputs": [],
   "source": [
    "csv_path = \"D:\\\\DA07\\\\Bai1.2.2\\\\data_set\\\\supermarket_sales_vn.csv\"\n",
    "row_list =[]\n",
    "with open(csv_path, mode ='r', encoding = \"utf-8\") as f:\n",
    "    csv_reader = csv.reader(f,delimiter=',')\n",
    "    next(csv_reader)\n",
    "    for row in csv_reader:\n",
    "        row_list.append(row)"
   ]
  },
  {
   "cell_type": "code",
   "execution_count": 58,
   "id": "fc7bd0b8",
   "metadata": {},
   "outputs": [
    {
     "name": "stdout",
     "output_type": "stream",
     "text": [
      "Mean của Tổng đơn: 322.966749 - Median của Tổng đơn: 253.848\n",
      "Mean của Rating: 6.9727 - Median của Rating: 7.0\n"
     ]
    }
   ],
   "source": [
    "ds_tong = np.array([float(row[8])for row in row_list])\n",
    "ds_rate = np.array([float(row[13])for row in row_list])\n",
    "mean_ds_tong = np.mean(ds_tong)\n",
    "median_ds_tong = np.median(ds_tong)\n",
    "mean_ds_rate = np.mean(ds_rate)\n",
    "median_ds_rate = np.median(ds_rate)\n",
    "print(\"Mean của Tổng đơn:\",mean_ds_tong,\"-\",\"Median của Tổng đơn:\", median_ds_tong)\n",
    "print(\"Mean của Rating:\",mean_ds_rate,\"-\",\"Median của Rating:\", median_ds_rate)"
   ]
  },
  {
   "cell_type": "code",
   "execution_count": null,
   "id": "b5f8a61b",
   "metadata": {},
   "outputs": [],
   "source": []
  }
 ],
 "metadata": {
  "kernelspec": {
   "display_name": "Python 3 (ipykernel)",
   "language": "python",
   "name": "python3"
  },
  "language_info": {
   "codemirror_mode": {
    "name": "ipython",
    "version": 3
   },
   "file_extension": ".py",
   "mimetype": "text/x-python",
   "name": "python",
   "nbconvert_exporter": "python",
   "pygments_lexer": "ipython3",
   "version": "3.9.13"
  }
 },
 "nbformat": 4,
 "nbformat_minor": 5
}
